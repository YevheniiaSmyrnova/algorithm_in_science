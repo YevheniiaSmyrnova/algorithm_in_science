{
 "cells": [
  {
   "cell_type": "markdown",
   "metadata": {
    "collapsed": true
   },
   "source": [
    "# connect to database"
   ]
  },
  {
   "cell_type": "code",
   "execution_count": 40,
   "metadata": {},
   "outputs": [],
   "source": [
    "from neo4j.v1 import GraphDatabase, basic_auth"
   ]
  },
  {
   "cell_type": "code",
   "execution_count": 41,
   "metadata": {},
   "outputs": [],
   "source": [
    "# ----- connection -------\n",
    "\n",
    "db_location = \"bolt://localhost:7687\"\n",
    "username = \"neo4j\"\n",
    "password = \"password\"\n",
    "driver = GraphDatabase.driver(db_location, auth=basic_auth(username, password))"
   ]
  },
  {
   "cell_type": "markdown",
   "metadata": {},
   "source": [
    "# create data\n",
    "\n",
    "for multi linear regression, we should create an example to train our skill in recognizing where is exactly should be multi and where it's just different objects.\n",
    "\n",
    "the important thing is multi = it's when you want to predict a lot of properties without cross-section but at the same time, it describes to you the whole system you use in your left side (X data).\n",
    "\n",
    "let's take an example, you will see )"
   ]
  },
  {
   "cell_type": "code",
   "execution_count": 43,
   "metadata": {},
   "outputs": [],
   "source": [
    "# first erase database\n",
    "\n",
    "with driver.session() as session:\n",
    "    \n",
    "    session.run(\"MATCH (n) DETACH DELETE n\")"
   ]
  },
  {
   "cell_type": "code",
   "execution_count": 44,
   "metadata": {},
   "outputs": [],
   "source": [
    "# then we want to predict how many journals, books and pens you will buy\n",
    "# there are 2 objects 1) people 2) stores\n",
    "# there are some properties for both of them\n",
    "# we need to choose the right properties what could have impact for our question = for our answers (Y data)\n",
    "# Y data = number of journals, number of books and number of pens\n",
    "# X data it's those properties of each object what really can affect result = \n",
    "# example = location (your and store), your age (old people not buying often )\n",
    "\n",
    "with driver.session() as session:\n",
    "    \n",
    "    # creating people with properties\n",
    "    session.run(\"FOREACH(person IN range(1,20) | CREATE (:Person {latitude: round(rand()*180), longitude: round(rand()*90), age: round(rand()*15+23)}))\")\n",
    "    \n",
    "    # creating stores with properties\n",
    "    session.run(\"FOREACH(store IN range(1,10) | CREATE (:Store {latitude: round(rand()*180), longitude: round(rand()*90), customers_daily: round(rand()*500)}))\")\n",
    "    \n",
    "    # creating random relationships = Y_data and set how many journals, books and pens that person were buying in that store\n",
    "    session.run(\"MATCH (person :Person), (store :Store) \"\n",
    "                \"WHERE rand() < 0.7 AND NOT (person)-[:BUYING_IN]->(store) \"\n",
    "                \"CREATE (person)-[bi :BUYING_IN]->(store) \"\n",
    "                \"SET bi.journals=round(rand()*8)+1, bi.books=round(rand()*5)+1, bi.pens=round(rand()*3)+1\")"
   ]
  },
  {
   "cell_type": "markdown",
   "metadata": {},
   "source": [
    "# load data"
   ]
  },
  {
   "cell_type": "code",
   "execution_count": 45,
   "metadata": {},
   "outputs": [],
   "source": [
    "import pandas as pd"
   ]
  },
  {
   "cell_type": "code",
   "execution_count": 46,
   "metadata": {},
   "outputs": [],
   "source": [
    "with driver.session() as session:\n",
    "    \n",
    "    # get data from database\n",
    "    with session.begin_transaction() as get_data:\n",
    "        result = get_data.run(\"MATCH (person :Person)-[bi :BUYING_IN]->(store :Store) \"\n",
    "                              \"RETURN person.latitude as person_latitude, person.longitude as person_longitude, person.age as person_age, store.latitude as store_latitude, store.longitude as store_longitude, store.customers_daily as store_customer_daily, bi.journals as journals, bi.books as books, bi.pens as pens\")\n",
    "        training_data = pd.DataFrame([{k: v for k, v in r.items()} for r in result])"
   ]
  },
  {
   "cell_type": "markdown",
   "metadata": {},
   "source": [
    "# Set X_data (features) and Y_data (responses)"
   ]
  },
  {
   "cell_type": "code",
   "execution_count": 47,
   "metadata": {},
   "outputs": [],
   "source": [
    "# create 2 variables called X_data and Y_data:\n",
    "# X_data shall be a matrix with features columns\n",
    "# and Y_data shall be a matrix with responses columns\n",
    "\n",
    "features_columns = [x for x in training_data.columns if x not in ['journals','books', 'pens']]\n",
    "responses_columns = ['journals', 'books', 'pens']\n",
    "X_data = training_data[features_columns]\n",
    "Y_data = training_data[responses_columns]"
   ]
  },
  {
   "cell_type": "code",
   "execution_count": 48,
   "metadata": {},
   "outputs": [
    {
     "data": {
      "text/html": [
       "<div>\n",
       "<style scoped>\n",
       "    .dataframe tbody tr th:only-of-type {\n",
       "        vertical-align: middle;\n",
       "    }\n",
       "\n",
       "    .dataframe tbody tr th {\n",
       "        vertical-align: top;\n",
       "    }\n",
       "\n",
       "    .dataframe thead th {\n",
       "        text-align: right;\n",
       "    }\n",
       "</style>\n",
       "<table border=\"1\" class=\"dataframe\">\n",
       "  <thead>\n",
       "    <tr style=\"text-align: right;\">\n",
       "      <th></th>\n",
       "      <th>person_age</th>\n",
       "      <th>person_latitude</th>\n",
       "      <th>person_longitude</th>\n",
       "      <th>store_customer_daily</th>\n",
       "      <th>store_latitude</th>\n",
       "      <th>store_longitude</th>\n",
       "    </tr>\n",
       "  </thead>\n",
       "  <tbody>\n",
       "    <tr>\n",
       "      <th>0</th>\n",
       "      <td>29.0</td>\n",
       "      <td>132.0</td>\n",
       "      <td>58.0</td>\n",
       "      <td>425.0</td>\n",
       "      <td>170.0</td>\n",
       "      <td>40.0</td>\n",
       "    </tr>\n",
       "    <tr>\n",
       "      <th>1</th>\n",
       "      <td>36.0</td>\n",
       "      <td>118.0</td>\n",
       "      <td>7.0</td>\n",
       "      <td>425.0</td>\n",
       "      <td>170.0</td>\n",
       "      <td>40.0</td>\n",
       "    </tr>\n",
       "    <tr>\n",
       "      <th>2</th>\n",
       "      <td>28.0</td>\n",
       "      <td>35.0</td>\n",
       "      <td>6.0</td>\n",
       "      <td>425.0</td>\n",
       "      <td>170.0</td>\n",
       "      <td>40.0</td>\n",
       "    </tr>\n",
       "    <tr>\n",
       "      <th>3</th>\n",
       "      <td>27.0</td>\n",
       "      <td>157.0</td>\n",
       "      <td>69.0</td>\n",
       "      <td>425.0</td>\n",
       "      <td>170.0</td>\n",
       "      <td>40.0</td>\n",
       "    </tr>\n",
       "    <tr>\n",
       "      <th>4</th>\n",
       "      <td>38.0</td>\n",
       "      <td>105.0</td>\n",
       "      <td>57.0</td>\n",
       "      <td>425.0</td>\n",
       "      <td>170.0</td>\n",
       "      <td>40.0</td>\n",
       "    </tr>\n",
       "  </tbody>\n",
       "</table>\n",
       "</div>"
      ],
      "text/plain": [
       "   person_age  person_latitude  person_longitude  store_customer_daily  \\\n",
       "0        29.0            132.0              58.0                 425.0   \n",
       "1        36.0            118.0               7.0                 425.0   \n",
       "2        28.0             35.0               6.0                 425.0   \n",
       "3        27.0            157.0              69.0                 425.0   \n",
       "4        38.0            105.0              57.0                 425.0   \n",
       "\n",
       "   store_latitude  store_longitude  \n",
       "0           170.0             40.0  \n",
       "1           170.0             40.0  \n",
       "2           170.0             40.0  \n",
       "3           170.0             40.0  \n",
       "4           170.0             40.0  "
      ]
     },
     "execution_count": 48,
     "metadata": {},
     "output_type": "execute_result"
    }
   ],
   "source": []
  },
  {
   "cell_type": "code",
   "execution_count": 49,
   "metadata": {},
   "outputs": [
    {
     "data": {
      "text/html": [
       "<div>\n",
       "<style scoped>\n",
       "    .dataframe tbody tr th:only-of-type {\n",
       "        vertical-align: middle;\n",
       "    }\n",
       "\n",
       "    .dataframe tbody tr th {\n",
       "        vertical-align: top;\n",
       "    }\n",
       "\n",
       "    .dataframe thead th {\n",
       "        text-align: right;\n",
       "    }\n",
       "</style>\n",
       "<table border=\"1\" class=\"dataframe\">\n",
       "  <thead>\n",
       "    <tr style=\"text-align: right;\">\n",
       "      <th></th>\n",
       "      <th>journals</th>\n",
       "      <th>books</th>\n",
       "      <th>pens</th>\n",
       "    </tr>\n",
       "  </thead>\n",
       "  <tbody>\n",
       "    <tr>\n",
       "      <th>0</th>\n",
       "      <td>8.0</td>\n",
       "      <td>5.0</td>\n",
       "      <td>2.0</td>\n",
       "    </tr>\n",
       "    <tr>\n",
       "      <th>1</th>\n",
       "      <td>5.0</td>\n",
       "      <td>5.0</td>\n",
       "      <td>2.0</td>\n",
       "    </tr>\n",
       "    <tr>\n",
       "      <th>2</th>\n",
       "      <td>7.0</td>\n",
       "      <td>4.0</td>\n",
       "      <td>2.0</td>\n",
       "    </tr>\n",
       "    <tr>\n",
       "      <th>3</th>\n",
       "      <td>3.0</td>\n",
       "      <td>2.0</td>\n",
       "      <td>3.0</td>\n",
       "    </tr>\n",
       "    <tr>\n",
       "      <th>4</th>\n",
       "      <td>4.0</td>\n",
       "      <td>4.0</td>\n",
       "      <td>3.0</td>\n",
       "    </tr>\n",
       "  </tbody>\n",
       "</table>\n",
       "</div>"
      ],
      "text/plain": [
       "   journals  books  pens\n",
       "0       8.0    5.0   2.0\n",
       "1       5.0    5.0   2.0\n",
       "2       7.0    4.0   2.0\n",
       "3       3.0    2.0   3.0\n",
       "4       4.0    4.0   3.0"
      ]
     },
     "execution_count": 49,
     "metadata": {},
     "output_type": "execute_result"
    }
   ],
   "source": [
    "Y_data.head()"
   ]
  },
  {
   "cell_type": "markdown",
   "metadata": {},
   "source": [
    "# Multi Linear Regression Model"
   ]
  },
  {
   "cell_type": "code",
   "execution_count": 50,
   "metadata": {},
   "outputs": [],
   "source": [
    "from sklearn.multioutput import MultiOutputRegressor\n",
    "from sklearn.ensemble import GradientBoostingRegressor"
   ]
  },
  {
   "cell_type": "code",
   "execution_count": 51,
   "metadata": {},
   "outputs": [],
   "source": [
    "# give a name to model and put data to fit\n",
    "model_3 = MultiOutputRegressor(GradientBoostingRegressor(random_state=0)).fit(X_data, Y_data)"
   ]
  },
  {
   "cell_type": "markdown",
   "metadata": {},
   "source": [
    "# Prediction\n",
    "we have to use the same type of data to predict new result"
   ]
  },
  {
   "cell_type": "code",
   "execution_count": 52,
   "metadata": {},
   "outputs": [],
   "source": [
    "# create new data \n",
    "\n",
    "new_data = pd.DataFrame(data = {'person_latitude': [23, 31, 17], 'person_longitude': [39, 45, 67], 'person_age': [33, 27, 43], 'store_customer_daily': [39, 10, 212], 'store_latitude': [12, 37, 78], 'store_longitude': [45, 23, 34]})"
   ]
  },
  {
   "cell_type": "code",
   "execution_count": 53,
   "metadata": {},
   "outputs": [
    {
     "data": {
      "text/html": [
       "<div>\n",
       "<style scoped>\n",
       "    .dataframe tbody tr th:only-of-type {\n",
       "        vertical-align: middle;\n",
       "    }\n",
       "\n",
       "    .dataframe tbody tr th {\n",
       "        vertical-align: top;\n",
       "    }\n",
       "\n",
       "    .dataframe thead th {\n",
       "        text-align: right;\n",
       "    }\n",
       "</style>\n",
       "<table border=\"1\" class=\"dataframe\">\n",
       "  <thead>\n",
       "    <tr style=\"text-align: right;\">\n",
       "      <th></th>\n",
       "      <th>person_age</th>\n",
       "      <th>person_latitude</th>\n",
       "      <th>person_longitude</th>\n",
       "      <th>store_customer_daily</th>\n",
       "      <th>store_latitude</th>\n",
       "      <th>store_longitude</th>\n",
       "    </tr>\n",
       "  </thead>\n",
       "  <tbody>\n",
       "    <tr>\n",
       "      <th>0</th>\n",
       "      <td>33</td>\n",
       "      <td>23</td>\n",
       "      <td>39</td>\n",
       "      <td>39</td>\n",
       "      <td>12</td>\n",
       "      <td>45</td>\n",
       "    </tr>\n",
       "    <tr>\n",
       "      <th>1</th>\n",
       "      <td>27</td>\n",
       "      <td>31</td>\n",
       "      <td>45</td>\n",
       "      <td>10</td>\n",
       "      <td>37</td>\n",
       "      <td>23</td>\n",
       "    </tr>\n",
       "    <tr>\n",
       "      <th>2</th>\n",
       "      <td>43</td>\n",
       "      <td>17</td>\n",
       "      <td>67</td>\n",
       "      <td>212</td>\n",
       "      <td>78</td>\n",
       "      <td>34</td>\n",
       "    </tr>\n",
       "  </tbody>\n",
       "</table>\n",
       "</div>"
      ],
      "text/plain": [
       "   person_age  person_latitude  person_longitude  store_customer_daily  \\\n",
       "0          33               23                39                    39   \n",
       "1          27               31                45                    10   \n",
       "2          43               17                67                   212   \n",
       "\n",
       "   store_latitude  store_longitude  \n",
       "0              12               45  \n",
       "1              37               23  \n",
       "2              78               34  "
      ]
     },
     "execution_count": 53,
     "metadata": {},
     "output_type": "execute_result"
    }
   ],
   "source": [
    "new_data"
   ]
  },
  {
   "cell_type": "code",
   "execution_count": 54,
   "metadata": {},
   "outputs": [
    {
     "data": {
      "text/plain": [
       "array([[3.56024393, 3.22193152, 2.51957338],\n",
       "       [4.58284404, 3.80523442, 1.50779837],\n",
       "       [4.45219571, 2.12267049, 3.03706   ]])"
      ]
     },
     "execution_count": 54,
     "metadata": {},
     "output_type": "execute_result"
    }
   ],
   "source": [
    "model_3.predict(new_data)"
   ]
  },
  {
   "cell_type": "markdown",
   "metadata": {},
   "source": [
    "let's write the output data in more correct way with data frame"
   ]
  },
  {
   "cell_type": "code",
   "execution_count": 55,
   "metadata": {},
   "outputs": [],
   "source": [
    "output = model_3.predict(new_data)"
   ]
  },
  {
   "cell_type": "code",
   "execution_count": 56,
   "metadata": {},
   "outputs": [],
   "source": [
    "output_data = pd.DataFrame({'journals': output[:,0], 'books': output[:,1], 'pens': output[:,2]})"
   ]
  },
  {
   "cell_type": "code",
   "execution_count": 57,
   "metadata": {},
   "outputs": [
    {
     "data": {
      "text/html": [
       "<div>\n",
       "<style scoped>\n",
       "    .dataframe tbody tr th:only-of-type {\n",
       "        vertical-align: middle;\n",
       "    }\n",
       "\n",
       "    .dataframe tbody tr th {\n",
       "        vertical-align: top;\n",
       "    }\n",
       "\n",
       "    .dataframe thead th {\n",
       "        text-align: right;\n",
       "    }\n",
       "</style>\n",
       "<table border=\"1\" class=\"dataframe\">\n",
       "  <thead>\n",
       "    <tr style=\"text-align: right;\">\n",
       "      <th></th>\n",
       "      <th>books</th>\n",
       "      <th>journals</th>\n",
       "      <th>pens</th>\n",
       "    </tr>\n",
       "  </thead>\n",
       "  <tbody>\n",
       "    <tr>\n",
       "      <th>0</th>\n",
       "      <td>3.221932</td>\n",
       "      <td>3.560244</td>\n",
       "      <td>2.519573</td>\n",
       "    </tr>\n",
       "    <tr>\n",
       "      <th>1</th>\n",
       "      <td>3.805234</td>\n",
       "      <td>4.582844</td>\n",
       "      <td>1.507798</td>\n",
       "    </tr>\n",
       "    <tr>\n",
       "      <th>2</th>\n",
       "      <td>2.122670</td>\n",
       "      <td>4.452196</td>\n",
       "      <td>3.037060</td>\n",
       "    </tr>\n",
       "  </tbody>\n",
       "</table>\n",
       "</div>"
      ],
      "text/plain": [
       "      books  journals      pens\n",
       "0  3.221932  3.560244  2.519573\n",
       "1  3.805234  4.582844  1.507798\n",
       "2  2.122670  4.452196  3.037060"
      ]
     },
     "execution_count": 57,
     "metadata": {},
     "output_type": "execute_result"
    }
   ],
   "source": [
    "output_data"
   ]
  },
  {
   "cell_type": "code",
   "execution_count": 58,
   "metadata": {},
   "outputs": [
    {
     "data": {
      "text/html": [
       "<div>\n",
       "<style scoped>\n",
       "    .dataframe tbody tr th:only-of-type {\n",
       "        vertical-align: middle;\n",
       "    }\n",
       "\n",
       "    .dataframe tbody tr th {\n",
       "        vertical-align: top;\n",
       "    }\n",
       "\n",
       "    .dataframe thead th {\n",
       "        text-align: right;\n",
       "    }\n",
       "</style>\n",
       "<table border=\"1\" class=\"dataframe\">\n",
       "  <thead>\n",
       "    <tr style=\"text-align: right;\">\n",
       "      <th></th>\n",
       "      <th>books</th>\n",
       "      <th>journals</th>\n",
       "      <th>pens</th>\n",
       "    </tr>\n",
       "  </thead>\n",
       "  <tbody>\n",
       "    <tr>\n",
       "      <th>0</th>\n",
       "      <td>3.0</td>\n",
       "      <td>4.0</td>\n",
       "      <td>3.0</td>\n",
       "    </tr>\n",
       "    <tr>\n",
       "      <th>1</th>\n",
       "      <td>4.0</td>\n",
       "      <td>5.0</td>\n",
       "      <td>2.0</td>\n",
       "    </tr>\n",
       "    <tr>\n",
       "      <th>2</th>\n",
       "      <td>2.0</td>\n",
       "      <td>4.0</td>\n",
       "      <td>3.0</td>\n",
       "    </tr>\n",
       "  </tbody>\n",
       "</table>\n",
       "</div>"
      ],
      "text/plain": [
       "   books  journals  pens\n",
       "0    3.0       4.0   3.0\n",
       "1    4.0       5.0   2.0\n",
       "2    2.0       4.0   3.0"
      ]
     },
     "execution_count": 58,
     "metadata": {},
     "output_type": "execute_result"
    }
   ],
   "source": [
    "output_data.round()"
   ]
  },
  {
   "cell_type": "markdown",
   "metadata": {},
   "source": [
    "# Save Model"
   ]
  },
  {
   "cell_type": "code",
   "execution_count": 59,
   "metadata": {},
   "outputs": [],
   "source": [
    "import pickle"
   ]
  },
  {
   "cell_type": "code",
   "execution_count": 60,
   "metadata": {},
   "outputs": [],
   "source": [
    "# ------ model name -------\n",
    "model_pkl_filename = 'prediction_model.pkl'"
   ]
  },
  {
   "cell_type": "code",
   "execution_count": 61,
   "metadata": {},
   "outputs": [],
   "source": [
    "with open(model_pkl_filename, 'wb') as pickled_model:\n",
    "    pickle.dump(model_3, pickled_model)"
   ]
  },
  {
   "cell_type": "markdown",
   "metadata": {},
   "source": [
    "# Load Model"
   ]
  },
  {
   "cell_type": "code",
   "execution_count": 62,
   "metadata": {},
   "outputs": [],
   "source": [
    "# ----- load prediction model -------\n",
    "with open(model_pkl_filename, 'rb') as model_pkl:\n",
    "    prediction_model = pickle.load(model_pkl)"
   ]
  },
  {
   "cell_type": "code",
   "execution_count": 63,
   "metadata": {},
   "outputs": [
    {
     "data": {
      "text/plain": [
       "MultiOutputRegressor(estimator=GradientBoostingRegressor(alpha=0.9, criterion='friedman_mse', init=None,\n",
       "             learning_rate=0.1, loss='ls', max_depth=3, max_features=None,\n",
       "             max_leaf_nodes=None, min_impurity_decrease=0.0,\n",
       "             min_impurity_split=None, min_samples_leaf=1,\n",
       "             min_samples_split=2, min_weight_fraction_leaf=0.0,\n",
       "             n_estimators=100, presort='auto', random_state=0,\n",
       "             subsample=1.0, verbose=0, warm_start=False),\n",
       "           n_jobs=1)"
      ]
     },
     "execution_count": 63,
     "metadata": {},
     "output_type": "execute_result"
    }
   ],
   "source": [
    "prediction_model"
   ]
  },
  {
   "cell_type": "markdown",
   "metadata": {},
   "source": [
    "# Use Prediction Model"
   ]
  },
  {
   "cell_type": "code",
   "execution_count": 67,
   "metadata": {},
   "outputs": [],
   "source": [
    "# create new data \n",
    "\n",
    "new_data = pd.DataFrame(data = {'person_latitude': [17], 'person_longitude': [39], 'person_age': [23], 'store_customer_daily': [212], 'store_latitude': [37], 'store_longitude': [23]})"
   ]
  },
  {
   "cell_type": "code",
   "execution_count": 68,
   "metadata": {},
   "outputs": [
    {
     "data": {
      "text/html": [
       "<div>\n",
       "<style scoped>\n",
       "    .dataframe tbody tr th:only-of-type {\n",
       "        vertical-align: middle;\n",
       "    }\n",
       "\n",
       "    .dataframe tbody tr th {\n",
       "        vertical-align: top;\n",
       "    }\n",
       "\n",
       "    .dataframe thead th {\n",
       "        text-align: right;\n",
       "    }\n",
       "</style>\n",
       "<table border=\"1\" class=\"dataframe\">\n",
       "  <thead>\n",
       "    <tr style=\"text-align: right;\">\n",
       "      <th></th>\n",
       "      <th>person_age</th>\n",
       "      <th>person_latitude</th>\n",
       "      <th>person_longitude</th>\n",
       "      <th>store_customer_daily</th>\n",
       "      <th>store_latitude</th>\n",
       "      <th>store_longitude</th>\n",
       "    </tr>\n",
       "  </thead>\n",
       "  <tbody>\n",
       "    <tr>\n",
       "      <th>0</th>\n",
       "      <td>23</td>\n",
       "      <td>17</td>\n",
       "      <td>39</td>\n",
       "      <td>212</td>\n",
       "      <td>37</td>\n",
       "      <td>23</td>\n",
       "    </tr>\n",
       "  </tbody>\n",
       "</table>\n",
       "</div>"
      ],
      "text/plain": [
       "   person_age  person_latitude  person_longitude  store_customer_daily  \\\n",
       "0          23               17                39                   212   \n",
       "\n",
       "   store_latitude  store_longitude  \n",
       "0              37               23  "
      ]
     },
     "execution_count": 68,
     "metadata": {},
     "output_type": "execute_result"
    }
   ],
   "source": [
    "new_data"
   ]
  },
  {
   "cell_type": "code",
   "execution_count": 71,
   "metadata": {},
   "outputs": [],
   "source": [
    "result = prediction_model.predict(new_data)"
   ]
  },
  {
   "cell_type": "code",
   "execution_count": 72,
   "metadata": {},
   "outputs": [
    {
     "data": {
      "text/plain": [
       "array([[7., 3., 1.]])"
      ]
     },
     "execution_count": 72,
     "metadata": {},
     "output_type": "execute_result"
    }
   ],
   "source": [
    "result.round()"
   ]
  },
  {
   "cell_type": "code",
   "execution_count": null,
   "metadata": {},
   "outputs": [],
   "source": []
  }
 ],
 "metadata": {
  "kernelspec": {
   "display_name": "Python 3",
   "language": "python",
   "name": "python3"
  },
  "language_info": {
   "codemirror_mode": {
    "name": "ipython",
    "version": 3
   },
   "file_extension": ".py",
   "mimetype": "text/x-python",
   "name": "python",
   "nbconvert_exporter": "python",
   "pygments_lexer": "ipython3",
   "version": "3.5.2"
  }
 },
 "nbformat": 4,
 "nbformat_minor": 2
}
